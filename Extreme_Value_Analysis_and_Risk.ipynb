{
  "cells": [
    {
      "cell_type": "markdown",
      "metadata": {},
      "source": "# \ud83c\udf0a Extreme Value Analysis and Risk Assessment\n\nWelcome to this notebook on **Extreme Value Analysis (EVA) and Risk Assessment**. This is crucial for understanding and planning for rare but impactful hydrological events like floods and droughts.\n\n---\n\n## \ud83c\udfaf Learning Objectives\n- Understand extreme value distributions: GEV and Gumbel\n- Fit models to annual maximum series (AMS)\n- Calculate return levels and exceedance probabilities\n- Visualize risk curves and confidence bounds\n"
    },
    {
      "cell_type": "markdown",
      "metadata": {},
      "source": "## \ud83d\udcc2 Step 1: Simulate Annual Maximum Series (AMS)\nWe simulate annual maximum daily flow values, which are used in flood frequency analysis."
    },
    {
      "cell_type": "code",
      "execution_count": null,
      "metadata": {},
      "outputs": [],
      "source": "import numpy as np\nimport pandas as pd\nimport matplotlib.pyplot as plt\n\nnp.random.seed(1)\nyears = np.arange(1980, 2020)\nams = np.random.gumbel(loc=500, scale=80, size=len(years))\ndf = pd.DataFrame({'Year': years, 'MaxFlow': ams})\ndf.head()"
    },
    {
      "cell_type": "markdown",
      "metadata": {},
      "source": "## \ud83d\udcd8 Step 2: Theoretical Background on Extreme Value Distributions\n- **GEV (Generalized Extreme Value)** combines three types of extremes\n- **Gumbel (Type I)** is widely used for flood estimation\n\nKey Concepts:\n- **Return Period (T)**: Average time between events of equal or greater magnitude\n- **Exceedance Probability (P)**: P = 1 - 1/T"
    },
    {
      "cell_type": "markdown",
      "metadata": {},
      "source": "## \ud83d\udee0 Step 3: Fit GEV and Gumbel Distributions\nUse `scipy.stats` to fit both models to the AMS data."
    },
    {
      "cell_type": "code",
      "execution_count": null,
      "metadata": {},
      "outputs": [],
      "source": "from scipy.stats import genextreme, gumbel_r\n\ngev_params = genextreme.fit(df['MaxFlow'])\ngumbel_params = gumbel_r.fit(df['MaxFlow'])\n\nprint(\"GEV params (shape, loc, scale):\", gev_params)\nprint(\"Gumbel params (loc, scale):\", gumbel_params)"
    },
    {
      "cell_type": "markdown",
      "metadata": {},
      "source": "## \ud83d\udcc8 Step 4: Plot Fitted Distributions and Empirical Histogram\nCompare theoretical fit with the observed AMS values."
    },
    {
      "cell_type": "code",
      "execution_count": null,
      "metadata": {},
      "outputs": [],
      "source": "x = np.linspace(df['MaxFlow'].min(), df['MaxFlow'].max(), 100)\n\nplt.hist(df['MaxFlow'], bins=10, density=True, alpha=0.5, label='Observed')\nplt.plot(x, genextreme.pdf(x, *gev_params), label='GEV')\nplt.plot(x, gumbel_r.pdf(x, *gumbel_params), label='Gumbel')\nplt.xlabel(\"Maximum Daily Flow (m\u00b3/s)\")\nplt.ylabel(\"Density\")\nplt.title(\"Extreme Value Distribution Fit\")\nplt.legend()\nplt.grid(True)\nplt.show()"
    },
    {
      "cell_type": "markdown",
      "metadata": {},
      "source": "## \ud83c\udf10 Step 5: Calculate Return Levels\nEstimate the flow magnitude associated with specific return periods (e.g., 10, 50, 100 years)."
    },
    {
      "cell_type": "code",
      "execution_count": null,
      "metadata": {},
      "outputs": [],
      "source": "return_periods = [10, 50, 100]\ngev_return_levels = [genextreme.ppf(1 - 1/t, *gev_params) for t in return_periods]\ngumbel_return_levels = [gumbel_r.ppf(1 - 1/t, *gumbel_params) for t in return_periods]\n\nfor t, g1, g2 in zip(return_periods, gev_return_levels, gumbel_return_levels):\n    print(f\"{t}-year Return Level (GEV): {g1:.2f} m\u00b3/s\")\n    print(f\"{t}-year Return Level (Gumbel): {g2:.2f} m\u00b3/s\\n\")"
    },
    {
      "cell_type": "markdown",
      "metadata": {},
      "source": "## \ud83e\udde0 Step 6: Practice Exercises\n1. Use `scipy.stats.probplot` to visualize Gumbel fit on QQ-plot.\n2. Fit the distributions to your own flood or rainfall maxima dataset.\n3. Calculate confidence intervals using bootstrapping.\n4. Plot the risk curve (Exceedance Prob vs Flow).\n\n---\n\nYou've now learned to model hydrological extremes using probability theory, helping assess flood and drought risks."
    }
  ],
  "metadata": {
    "kernelspec": {
      "display_name": "Python 3",
      "language": "python",
      "name": "python3"
    },
    "language_info": {
      "name": "python",
      "version": "3.x"
    }
  },
  "nbformat": 4,
  "nbformat_minor": 5
}