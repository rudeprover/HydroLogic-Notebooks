{
  "cells": [
    {
      "cell_type": "markdown",
      "metadata": {},
      "source": "# \u23f1 Time Series Analysis in Hydrology\n\nWelcome to this notebook on **Time Series Analysis in Hydrology**. Time series methods help us detect patterns, model variability, and forecast future hydrological values like rainfall, streamflow, and groundwater levels.\n\n---\n\n## \ud83c\udfaf Learning Objectives\n- Understand stationarity, autocorrelation, and ARIMA modeling\n- Learn to visualize and decompose time series\n- Test for trends and seasonality\n- Forecast future hydrological values\n"
    },
    {
      "cell_type": "markdown",
      "metadata": {},
      "source": "## \ud83d\udcc2 Step 1: Load Streamflow Time Series Data\nWe will simulate monthly streamflow data with seasonality and trend for demonstration."
    },
    {
      "cell_type": "code",
      "execution_count": null,
      "metadata": {},
      "outputs": [],
      "source": "import numpy as np\nimport pandas as pd\nimport matplotlib.pyplot as plt\n\nnp.random.seed(0)\ndates = pd.date_range(start=\"2000-01\", periods=240, freq=\"M\")\nseasonality = 20 * np.sin(2 * np.pi * dates.month / 12)\ntrend = 0.5 * np.arange(240)\nnoise = np.random.normal(0, 5, 240)\nflow = 100 + seasonality + trend + noise\n\ndf = pd.DataFrame({'Date': dates, 'Flow': flow}).set_index('Date')\ndf.head()"
    },
    {
      "cell_type": "markdown",
      "metadata": {},
      "source": "## \ud83d\udcd8 Step 2: Time Series Visualization and Decomposition\nWe\u2019ll visualize the raw data and decompose it into trend, seasonal, and residual components."
    },
    {
      "cell_type": "code",
      "execution_count": null,
      "metadata": {},
      "outputs": [],
      "source": "from statsmodels.tsa.seasonal import seasonal_decompose\n\nplt.figure(figsize=(10,4))\ndf['Flow'].plot(title='Monthly Streamflow Time Series')\nplt.ylabel(\"Flow (m\u00b3/s)\")\nplt.grid(True)\nplt.show()\n\nresult = seasonal_decompose(df['Flow'], model='additive')\nresult.plot();"
    },
    {
      "cell_type": "markdown",
      "metadata": {},
      "source": "## \ud83d\udd0e Step 3: Stationarity Check using Augmented Dickey-Fuller Test\nStationarity means constant mean and variance over time. Many models require it.\n\nWe\u2019ll use the Augmented Dickey-Fuller (ADF) test."
    },
    {
      "cell_type": "code",
      "execution_count": null,
      "metadata": {},
      "outputs": [],
      "source": "from statsmodels.tsa.stattools import adfuller\n\nadf_result = adfuller(df['Flow'])\nprint(\"ADF Statistic:\", adf_result[0])\nprint(\"p-value:\", adf_result[1])"
    },
    {
      "cell_type": "markdown",
      "metadata": {},
      "source": "## \ud83d\udd01 Step 4: Autocorrelation Analysis\nPlot the Autocorrelation Function (ACF) and Partial Autocorrelation Function (PACF) to identify lagged relationships."
    },
    {
      "cell_type": "code",
      "execution_count": null,
      "metadata": {},
      "outputs": [],
      "source": "from statsmodels.graphics.tsaplots import plot_acf, plot_pacf\n\nplot_acf(df['Flow'], lags=36)\nplot_pacf(df['Flow'], lags=36);"
    },
    {
      "cell_type": "markdown",
      "metadata": {},
      "source": "## \ud83d\udcc8 Step 5: ARIMA Forecasting\nFit an ARIMA model and forecast future streamflow values."
    },
    {
      "cell_type": "code",
      "execution_count": null,
      "metadata": {},
      "outputs": [],
      "source": "from statsmodels.tsa.arima.model import ARIMA\n\nmodel = ARIMA(df['Flow'], order=(1,1,1))\nmodel_fit = model.fit()\nforecast = model_fit.forecast(steps=12)\n\n# Plot forecast\nplt.plot(df.index[-60:], df['Flow'][-60:], label='Observed')\nplt.plot(pd.date_range(df.index[-1], periods=12, freq='M'), forecast, label='Forecast', color='red')\nplt.title(\"Streamflow Forecast\")\nplt.legend()\nplt.grid(True)\nplt.show()"
    },
    {
      "cell_type": "markdown",
      "metadata": {},
      "source": "## \ud83e\udde0 Step 6: Practice Exercises\n1. Use `seasonal_decompose` with a multiplicative model.\n2. Detrend the series and recheck for stationarity.\n3. Try an ARIMA model with different orders (e.g., (2,1,2)).\n4. Perform rolling mean and standard deviation check.\n\n---\n\nYou now have a toolkit to analyze, decompose, and forecast hydrological time series using Python!"
    }
  ],
  "metadata": {
    "kernelspec": {
      "display_name": "Python 3",
      "language": "python",
      "name": "python3"
    },
    "language_info": {
      "name": "python",
      "version": "3.x"
    }
  },
  "nbformat": 4,
  "nbformat_minor": 5
}