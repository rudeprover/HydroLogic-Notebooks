{
 "cells": [
  {
   "cell_type": "markdown",
   "id": "53701a85",
   "metadata": {},
   "source": [
    "# 🗺 Spatial Hydrology and Interpolation\n",
    "\n",
    "Welcome to the **Spatial Hydrology and Interpolation** notebook. This notebook introduces key spatial statistics and geospatial methods to estimate and map hydrological variables like rainfall or groundwater levels.\n",
    "\n",
    "---\n",
    "\n",
    "## 🎯 Learning Objectives\n",
    "- Understand spatial variability and spatial autocorrelation\n",
    "- Perform spatial interpolation using Inverse Distance Weighting (IDW)\n",
    "- Visualize spatial patterns using maps\n",
    "- Construct basic semivariograms\n",
    "- Practice spatial prediction with Python\n"
   ]
  },
  {
   "cell_type": "markdown",
   "id": "8b99a3ca",
   "metadata": {},
   "source": [
    "## 📂 Step 1: Create Synthetic Rainfall Station Data\n",
    "Simulate rainfall at different geographic coordinates to replicate spatial station observations."
   ]
  },
  {
   "cell_type": "code",
   "execution_count": null,
   "id": "b8437ad2",
   "metadata": {},
   "outputs": [],
   "source": [
    "import numpy as np\n",
    "import pandas as pd\n",
    "import matplotlib.pyplot as plt\n",
    "import geopandas as gpd\n",
    "from shapely.geometry import Point\n",
    "\n",
    "np.random.seed(42)\n",
    "n = 20\n",
    "x = np.random.uniform(0, 100, n)\n",
    "y = np.random.uniform(0, 100, n)\n",
    "rainfall = np.random.normal(100, 15, n)\n",
    "\n",
    "df = pd.DataFrame({'X': x, 'Y': y, 'Rainfall': rainfall})\n",
    "df['geometry'] = [Point(xy) for xy in zip(df.X, df.Y)]\n",
    "gdf = gpd.GeoDataFrame(df, geometry='geometry')\n",
    "gdf.crs = 'EPSG:4326'\n",
    "gdf.head()"
   ]
  },
  {
   "cell_type": "markdown",
   "id": "0d4e6c65",
   "metadata": {},
   "source": [
    "## 🗺 Step 2: Visualize Rainfall Stations on Map"
   ]
  },
  {
   "cell_type": "code",
   "execution_count": null,
   "id": "b910284d",
   "metadata": {},
   "outputs": [],
   "source": [
    "fig, ax = plt.subplots(figsize=(6, 6))\n",
    "gdf.plot(ax=ax, column='Rainfall', cmap='Blues', legend=True, markersize=80, edgecolor='black')\n",
    "plt.title(\"Rainfall at Station Locations\")\n",
    "plt.grid(True)\n",
    "plt.show()"
   ]
  },
  {
   "cell_type": "markdown",
   "id": "765a089b",
   "metadata": {},
   "source": [
    "## 🛠 Step 3: Inverse Distance Weighting (IDW) Interpolation\n",
    "We’ll estimate rainfall values on a continuous surface using the IDW technique."
   ]
  },
  {
   "cell_type": "code",
   "execution_count": null,
   "id": "cd9f40c9",
   "metadata": {},
   "outputs": [],
   "source": [
    "from scipy.spatial import cKDTree\n",
    "\n",
    "# Interpolation grid\n",
    "grid_x, grid_y = np.meshgrid(np.linspace(0, 100, 100), np.linspace(0, 100, 100))\n",
    "grid_points = np.vstack((grid_x.ravel(), grid_y.ravel())).T\n",
    "\n",
    "# IDW interpolation\n",
    "tree = cKDTree(np.column_stack([x, y]))\n",
    "dists, idxs = tree.query(grid_points, k=4)\n",
    "weights = 1 / (dists + 1e-12)\n",
    "weights /= weights.sum(axis=1, keepdims=True)\n",
    "interp_vals = np.sum(weights * rainfall[idxs], axis=1)\n",
    "interp_grid = interp_vals.reshape(100, 100)"
   ]
  },
  {
   "cell_type": "markdown",
   "id": "9d3603f6",
   "metadata": {},
   "source": [
    "## 🖼 Step 4: Plot Interpolated Rainfall Map"
   ]
  },
  {
   "cell_type": "code",
   "execution_count": null,
   "id": "e05fd8c8",
   "metadata": {},
   "outputs": [],
   "source": [
    "fig, ax = plt.subplots(figsize=(8, 6))\n",
    "c = ax.imshow(interp_grid, extent=(0, 100, 0, 100), origin='lower', cmap='YlGnBu')\n",
    "gdf.plot(ax=ax, color='red', edgecolor='black', markersize=50)\n",
    "plt.colorbar(c, ax=ax, label='Interpolated Rainfall (mm)')\n",
    "plt.title(\"IDW Interpolated Rainfall Surface\")\n",
    "plt.xlabel(\"X Coordinate\")\n",
    "plt.ylabel(\"Y Coordinate\")\n",
    "plt.grid(True)\n",
    "plt.show()"
   ]
  },
  {
   "cell_type": "markdown",
   "id": "979accc3",
   "metadata": {},
   "source": [
    "## 📈 Step 5: Estimate Empirical Semivariogram\n",
    "Use distance and squared difference to compute semivariance between all point pairs."
   ]
  },
  {
   "cell_type": "code",
   "execution_count": null,
   "id": "4ee86b9c",
   "metadata": {},
   "outputs": [],
   "source": [
    "from scipy.spatial.distance import pdist\n",
    "\n",
    "coords = np.column_stack([x, y])\n",
    "distances = pdist(coords)\n",
    "semivariance = pdist(rainfall.reshape(-1, 1))**2 / 2\n",
    "\n",
    "plt.scatter(distances, semivariance, alpha=0.6)\n",
    "plt.xlabel(\"Distance between Stations\")\n",
    "plt.ylabel(\"Semivariance\")\n",
    "plt.title(\"Empirical Semivariogram\")\n",
    "plt.grid(True)\n",
    "plt.show()"
   ]
  },
  {
   "cell_type": "markdown",
   "id": "82a028ac",
   "metadata": {},
   "source": [
    "## 🧠 Step 6: Practice Exercises\n",
    "1. Use a real rainfall or groundwater shapefile dataset and apply IDW.\n",
    "2. Implement Kriging using `pykrige.ok.OrdinaryKriging`.\n",
    "3. Modify the IDW weight power to compare sharper vs smoother surfaces.\n",
    "4. Create a contour map using `matplotlib.contourf` from the interpolated grid.\n",
    "5. Try Leave-One-Out Cross Validation to assess prediction errors.\n",
    "\n",
    "---\n",
    "\n",
    "You've now practiced spatial interpolation and learned the basics of spatial statistics in hydrology!"
   ]
  },
  {
   "cell_type": "markdown",
   "id": "1f34b0c7",
   "metadata": {},
   "source": [
    "## 📘 Final Note & Repository Info\n",
    "\n",
    "This notebook is part of a curated educational series on **Statistical and Machine Learning Methods in Hydrology**, developed using Python.\n",
    "\n",
    "### 📚 Contributors:\n",
    "- **Zuhail Abdullah** – Resource Person (Jr.)  \n",
    "- **Dr. Harsh Upadhyay** – Scientist-B\n",
    "\n",
    "### 🏛 Affiliation:\n",
    "National Institute of Hydrology, Roorkee, India\n",
    "\n",
    "---\n",
    "\n",
    "### 🤝 How to Contribute\n",
    "We welcome contributions to this repository! You can:\n",
    "- Submit bug fixes and improvements\n",
    "- Add new examples or exercises\n",
    "- Report issues or suggest enhancements\n",
    "\n",
    "To contribute:\n",
    "1. Fork the repository on GitHub\n",
    "2. Create a new branch for your changes\n",
    "3. Commit your edits and push the branch\n",
    "4. Open a pull request and describe your contribution\n",
    "\n",
    "Thank you for supporting hydrological education and open science! 💧"
   ]
  }
 ],
 "metadata": {
  "kernelspec": {
   "display_name": "Python 3 (ipykernel)",
   "language": "python",
   "name": "python3"
  },
  "language_info": {
   "codemirror_mode": {
    "name": "ipython",
    "version": 3
   },
   "file_extension": ".py",
   "mimetype": "text/x-python",
   "name": "python",
   "nbconvert_exporter": "python",
   "pygments_lexer": "ipython3",
   "version": "3.10.9"
  }
 },
 "nbformat": 4,
 "nbformat_minor": 5
}
